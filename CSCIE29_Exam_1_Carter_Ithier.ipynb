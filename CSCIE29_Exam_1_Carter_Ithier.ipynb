{
 "cells": [
  {
   "cell_type": "markdown",
   "metadata": {},
   "source": [
    "### Your Name:\n",
    "### Your TF:\n",
    "### Type of credit: Graduate / Undergraduate\n",
    "### CSCI E-29\n",
    "### EXAM 1\n",
    "### Due: March 14th 11:59pm\n",
    "\n",
    "Important Notes: \n",
    "1. This examination has 2 parts:\n",
    "    * Jupyter Notebook to be submitted on Canvas (open book, open note) 40 points\n",
    "    * Quiz portion (closed book, timed, the rules of taking a quiz apply) 10 points\n",
    "\n",
    "2. Any delay in submission of the Exam will result in 0 points for the exam without exceptions.\n",
    "3. If the task asks you to do something in N number of lines of code, that means lines of code that you would write and not imports and staff provided code.\n",
    "4. Don't remove staff lines of code, you may comment them out while developing as required\n",
    "5. Uncomment lines of code saying uncomment when finished with section\n",
    "\n"
   ]
  },
  {
   "cell_type": "code",
   "execution_count": null,
   "metadata": {},
   "outputs": [],
   "source": [
    "%matplotlib inline\n",
    "#We took care of imports\n",
    "import pandas as pd\n",
    "import plotly\n",
    "plotly.offline.init_notebook_mode(connected=True)\n",
    "import plotly.graph_objs as go\n",
    "import numpy as np"
   ]
  },
  {
   "cell_type": "markdown",
   "metadata": {},
   "source": [
    "## Problem 1: Rick Astley's Pandas-Free Python Indexer \n",
    "### 5 points\n",
    "\n",
    "We have two dictionary structures, one with a key index which has numerical values (d_i),\n",
    "and another (d_s) whose key 'index' maps to string values. Let's assume that 'index' is a special index for 'data'.\n",
    "\n",
    "\n",
    "Your mission is to create the yougetme function.\n",
    "This function has two parameters:\n",
    "1. A dictionary\n",
    "2. An index\n",
    "\n",
    "yougetme should work as follows:\n",
    "Given any of the two dictionaries and an index, it should return the corresponding data for that index from 'data'.\n",
    "\n",
    "The same function should work if you use it for d_i with a numerical index, or d_s with the index being a string.\n",
    "\n",
    "print (yougetme(d_s,\"Never\")) should return 2\n",
    "\n",
    "\n",
    "print (yougetme(d_i,2)) should return Never\n",
    "\n",
    "Hint1: This is plain python indexing, no pandas.\n",
    "\n",
    "Hint2: It can be solved with 1 line of code"
   ]
  },
  {
   "cell_type": "code",
   "execution_count": null,
   "metadata": {},
   "outputs": [],
   "source": [
    "d_i = {'index':[2,4,6,8,10],\n",
    "       'data':[\"Never\",'Gonna','Give','You','Up'],\n",
    "       'name':'Rick'\n",
    "      }\n",
    "d_s = {'index':[\"Never\",'Gonna','Let','You','Down'],\n",
    "       'data':[2,4,6,8,10],\n",
    "       'name':'Astley'}\n",
    "\n",
    "\n",
    "def yougetme(d, i):\n",
    "    \"\"\"\n",
    "    I just wanna tell you how I'm feeling\n",
    "    Gotta make you understand that you should always say what your functions do.   \n",
    "    \"\"\"\n",
    "    #YOUR CODE HERE\n",
    "\n",
    "#Uncomment when finished with section\n",
    "#print (yougetme(d_s,\"Never\"))\n",
    "#print (yougetme(d_i,2))  "
   ]
  },
  {
   "cell_type": "markdown",
   "metadata": {},
   "source": [
    "## Problem 2: Grandmaster\n",
    "### 12 points\n",
    "\n",
    "Let's move to NumPy.\n",
    "\n",
    "This is a chessboard.  We will use NumPy to do some interesting manipulations to make some shapes.\n",
    "<center><img style=\"align: center;\"  src=\"https://github.com/sunworshipper/e29/blob/master/Lecture_3/images/chess.jpg?raw=true\"> </center>\n",
    "\n",
    "Note: You will not get any credit it you build or manipulate your board with manually engineered sequences that are stitched together. We are looking for slicing and steps.\n"
   ]
  },
  {
   "cell_type": "markdown",
   "metadata": {},
   "source": [
    "### 2.1 Make a Chess Board with 3 lines of code\n",
    "### 5 points\n",
    "\n",
    "* Using numpy simulate a chessboard with a 2d matrix where the green squares are 1 and the white squares are 0.\n",
    "* Full credit for solution in 3 lines of code or less\n",
    "* Half credit for solution with > 3 lines of code"
   ]
  },
  {
   "cell_type": "code",
   "execution_count": null,
   "metadata": {},
   "outputs": [],
   "source": [
    "#Hint: You can start with ones or zeros but maybe you have a better idea\n",
    "#YOUR CODE HERE\n",
    "chess = \n",
    "\n",
    "#Uncomment when finished with section\n",
    "#print(chess)"
   ]
  },
  {
   "cell_type": "markdown",
   "metadata": {},
   "source": [
    "### 2.2 A nice frame of zeros with 2 lines of code\n",
    "### 5 points\n",
    "\n",
    "* Definition of \"frame\": the outer most layer of the board should be all zeros (rows: a, h, columns: 1, 8)\n",
    "* Full credit for solution in 3 lines of code or less\n",
    "* Half credit for solution with > 3 lines of code"
   ]
  },
  {
   "cell_type": "code",
   "execution_count": null,
   "metadata": {},
   "outputs": [],
   "source": [
    "#YOUR CODE HERE\n",
    "\n",
    "#Uncomment when finished with section\n",
    "#print (chess)"
   ]
  },
  {
   "cell_type": "markdown",
   "metadata": {},
   "source": [
    "### 2.3 Convert Zeros to Ones and Ones to Zeros with 1 line of code\n",
    "\n",
    "### 2 points\n",
    "\n",
    "* Full credit for solution in 1 lines of code\n",
    "* Half credit for solution with > 1 lines of code"
   ]
  },
  {
   "cell_type": "code",
   "execution_count": null,
   "metadata": {},
   "outputs": [],
   "source": [
    "#YOUR CODE HERE\n",
    "chess = \n",
    "\n",
    "#Uncomment when finished with section\n",
    "#print (chess)"
   ]
  },
  {
   "cell_type": "markdown",
   "metadata": {
    "collapsed": true
   },
   "source": [
    "## Problem 3: Data Whisperer\n",
    "### 23 Points\n"
   ]
  },
  {
   "cell_type": "markdown",
   "metadata": {},
   "source": [
    "### 3.1. Load the data into two dataframes df_event1 and df_event2\n",
    "### 2 Points\n",
    "\n",
    "### 3.2. Name the columns using the event1_columns and event2_columns list\n",
    "### 2 Points\n",
    "\n",
    "\n",
    "Hint 1: The data has no headers so you should be careful how you load it"
   ]
  },
  {
   "cell_type": "code",
   "execution_count": null,
   "metadata": {},
   "outputs": [],
   "source": [
    "event1_columns = ['query', 'strand', 'id']\n",
    "event2_columns = ['query', 'strand', 'id','location']\n",
    "#YOUR CODE HERE\n",
    "\n",
    "\n",
    "#Uncomment when finished with section\n",
    "#df_event1.describe()"
   ]
  },
  {
   "cell_type": "markdown",
   "metadata": {},
   "source": [
    "### 3.3. Filter out any rows where strand is -, keeping only read that have + for both df_event1 and df_event2 and keep the same names for the dfs.\n",
    "### 2 Points\n"
   ]
  },
  {
   "cell_type": "code",
   "execution_count": null,
   "metadata": {},
   "outputs": [],
   "source": [
    "#YOUR CODE HERE\n",
    "\n",
    "\n",
    "#Uncomment when finished with section\n",
    "#df_event1.describe()"
   ]
  },
  {
   "cell_type": "markdown",
   "metadata": {},
   "source": [
    "### 3.4. Let's make sure df_event1 doesn't contain duplicates.  Remove all records that have a duplicate in column 'id' leaving only the first occurence of the record if duplicated\n",
    "### 2 Points\n",
    "\n",
    "\n",
    "Hint: Don't do this for df_event2"
   ]
  },
  {
   "cell_type": "code",
   "execution_count": null,
   "metadata": {},
   "outputs": [],
   "source": [
    "#YOUR CODE HERE\n",
    "\n",
    "df_event1 = \n",
    "\n",
    "#Uncomment when finished with section\n",
    "#df_event1.describe()"
   ]
  },
  {
   "cell_type": "markdown",
   "metadata": {},
   "source": [
    "### 3.5. Let's make some new columns and populate them\n",
    "### 2 Points\n",
    "\n",
    "\n",
    "#### Add a column called 'base' to df_event1, with the following values:\n",
    "\n",
    "#### A if value in query is SNP_A\n",
    "#### C if value in query is SNP_C\n",
    "#### G if value in query is SNP_G\n",
    "#### T if value in query is SNP_T\n"
   ]
  },
  {
   "cell_type": "code",
   "execution_count": null,
   "metadata": {},
   "outputs": [],
   "source": [
    "#YOUR CODE HERE\n",
    "\n",
    "#Uncomment when finished with section\n",
    "#df_event1.head(5)"
   ]
  },
  {
   "cell_type": "markdown",
   "metadata": {},
   "source": [
    "### 3.6. Count all the values in df_event1['base'] and store them in a series object called df_event1_base_counts\n",
    "### 2 Points\n",
    "\n",
    "\n",
    "Hint: If you are on the right track the counts for C and G will be much larger than T and A here"
   ]
  },
  {
   "cell_type": "code",
   "execution_count": null,
   "metadata": {},
   "outputs": [],
   "source": [
    "#YOUR CODE HERE\n",
    "\n",
    "#Uncomment when finished with section\n",
    "#df_event1_base_counts"
   ]
  },
  {
   "cell_type": "markdown",
   "metadata": {},
   "source": [
    "### 3.7. Create a pie chart of the series object using the series plot function\n",
    "### 2 Points\n",
    "\n",
    "\n",
    "Hint: This is not plotly, but matplotlib, it's one line of code."
   ]
  },
  {
   "cell_type": "code",
   "execution_count": null,
   "metadata": {},
   "outputs": [],
   "source": [
    "#YOUR CODE HERE\n"
   ]
  },
  {
   "cell_type": "markdown",
   "metadata": {},
   "source": [
    "### 3.8. Reshape df_event2\n",
    "### 2 Points\n",
    "\n",
    "\n",
    "Let's shift our attention to df_event2.  df_event2 is interesting because in the query column it contains 2 types of coordinates.  We want to only work with ids that have a left and right coordinate so we can measure the distance between the coordinates.  The ideal shape for this would be to have a df that looks like this:\n",
    "\n",
    "id, lc_location, rc_location\n",
    "\n",
    "where lc_location, rc_location are the left and right coordinate location (from the column location)\n",
    "\n",
    "note that we no longer need strand.\n",
    "\n",
    "Tasks:\n",
    "\n",
    "* Use groupby to create a group g on query\n",
    "* Get get the 2 dfs from your group object by their key to create the df_left and df_right dataframes\n",
    "* Merge these dfs on id creating a merged_event2 df using an inner join on the id columns\n",
    "* Drop the unnecessary columns by selecting only the ones for the ideal shape for the next step as listed above\n",
    "* Rename the location columns to lc_location and rc_location"
   ]
  },
  {
   "cell_type": "code",
   "execution_count": null,
   "metadata": {},
   "outputs": [],
   "source": [
    "#YOUR CODE HERE\n",
    "\n",
    "g = \n",
    "\n",
    "\n",
    "#Uncomment when finished with section\n",
    "#merged_event2.head()"
   ]
  },
  {
   "cell_type": "markdown",
   "metadata": {},
   "source": [
    "### 3.9 Calculating distance\n",
    "### 2 Points\n",
    "\n",
    "\n",
    "We want to calculate the distance between the right coordinate and left coordinate.\n",
    "\n",
    "* Create a new column for the merged_event2 dataframe called distance\n",
    "* Populate distance with the following formula: int((rc_location - lc_location)/3)\n",
    "* Remove any rows where distance is <= 0\n",
    "* Remove any rows where 'id' has duplicates and keep the first occurrence \n",
    "* Get rid of the lc_location and rc_location columns, all you need is id and distance for the next step"
   ]
  },
  {
   "cell_type": "code",
   "execution_count": null,
   "metadata": {},
   "outputs": [],
   "source": [
    "#YOUR CODE HERE\n",
    "\n",
    "\n",
    "#Uncomment when finished with section\n",
    "#merged_event2.head(5)"
   ]
  },
  {
   "cell_type": "markdown",
   "metadata": {},
   "source": [
    "### 3.10 Merging with df_event1\n",
    "### 2 Points\n",
    "\n",
    "\n",
    "Remember df_event1? It looks like we can merge the merged_event2 with df_event1.\n",
    "\n",
    "* create a final_df dataframe by merging df_event1 with merged_event2 inner join on 'id'\n",
    "* subset the final_df and keep only the base and distance columns\n"
   ]
  },
  {
   "cell_type": "code",
   "execution_count": null,
   "metadata": {},
   "outputs": [],
   "source": [
    "#YOUR CODE HERE\n",
    "\n",
    "#Uncomment when finished with section\n",
    "#final_df.base.describe()"
   ]
  },
  {
   "cell_type": "markdown",
   "metadata": {},
   "source": [
    "### 3.11 Stacked Histogram\n",
    "### 3 Points\n",
    "\n",
    "Using plotly offline, create a stacked histogram for the data in final_df\n",
    "\n",
    "where on the x axis you have the distance, on the y axis you have the number of counts, and base types are represented with different colors.\n",
    "\n",
    "* The title of your chart should be: Stacked\n",
    "* Your x axis label should be : Repeats\n",
    "* Your y axis label should be: Number of reads"
   ]
  },
  {
   "cell_type": "code",
   "execution_count": null,
   "metadata": {},
   "outputs": [],
   "source": [
    "#YOUR CODE HERE\n",
    "\n"
   ]
  }
 ],
 "metadata": {
  "kernelspec": {
   "display_name": "Python 3",
   "language": "python",
   "name": "python3"
  },
  "language_info": {
   "codemirror_mode": {
    "name": "ipython",
    "version": 3
   },
   "file_extension": ".py",
   "mimetype": "text/x-python",
   "name": "python",
   "nbconvert_exporter": "python",
   "pygments_lexer": "ipython3",
   "version": "3.6.3"
  }
 },
 "nbformat": 4,
 "nbformat_minor": 2
}
